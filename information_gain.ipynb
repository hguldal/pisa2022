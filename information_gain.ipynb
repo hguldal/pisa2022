{
  "nbformat": 4,
  "nbformat_minor": 0,
  "metadata": {
    "colab": {
      "provenance": [],
      "machine_shape": "hm",
      "gpuType": "T4"
    },
    "kernelspec": {
      "name": "python3",
      "display_name": "Python 3"
    },
    "language_info": {
      "name": "python"
    },
    "accelerator": "GPU"
  },
  "cells": [
    {
      "cell_type": "code",
      "source": [
        "\"\"\"\n",
        "Hakan Güldal, hguldal@trakya.edu.tr, hguldal@gmail.com, 2024\n",
        "Information Gain Analysis\n",
        "\n",
        "Hardware Infrastructure: Google Compute Engine backend (GPU) System RAM: 51.0 GB NVidia T4 GPU\n",
        "Software Infrastructure: Python, Scikit-Learn & Pandas Libraries\n",
        "\n",
        "\"\"\"\n",
        "\n",
        "import pandas as pd\n",
        "\n",
        "# Read the CSV data file\n",
        "df = pd.read_csv('data.csv')\n",
        "\n",
        "from sklearn.feature_selection import mutual_info_classif\n",
        "\n",
        "# Put all noncognitive features in the data into a list\n",
        "featureList=['ST003D02T','ST003D03T','GRADE','ST001D01T','AGE','ST004D01T','MISCED','FISCED','HISCED','PAREDINT','OCOD1','OCOD2','BMMJ1','BFMJ2','HISEI','DURECEC','ISCEDP','PROGN','REPEAT','MISSSC','SKIPPING','TARDYSD','EXPECEDU','OCOD3','BSMJ','SISCO','COBN_S','COBN_M','COBN_F','IMMIG','LANGN','MATHMOT','MATHEASE','MATHPREF','EXERPRAC','STUDYHMW','WORKPAY','WORKHOME','ST250D06JA','ST250D07JA','ST251D08JA','ST251D09JA','ST330D10WA','HOMEPOS','ICTRES','INFOSEEK','BULLIED','FEELSAFE','TEACHSUP','RELATST','SCHRISK','BELONG','GROSAGR','ANXMAT','MATHEFF','MATHEF21','MATHPERS','FAMCON','ASSERAGR','COOPAGR','CURIOAGR','EMOCOAGR','EMPATAGR','PERSEVAGR','STRESAGR','EXPOFA','EXPO21ST','COGACRCO','COGACMCO','DISCLIM','FAMSUP','CREATFAM','CREATSCH','CREATEFF','CREATOP','IMAGINE','OPENART','CREATAS','CREATOOS','FAMSUPSL','FEELLAH','PROBSELF','SDLEFF','SCHSUST','LEARRES','ESCS','ICTAVSCH','ICTAVHOM','ICTDISTR','ICTSCH','ICTHOME','ICTQUAL','ICTSUBJ','ICTENQ','ICTFEED','ICTOUT','ICTWKDY','ICTWKEND','ICTREG','ICTINFO','ICTEFFIC','STUBMI','BODYIMA','SOCONPA','LIFESAT','PSYCHSYM','SOCCON','EXPWB','PAREXPT','CURSUPP','PQMIMP','PQMCAR','PARINVOL','PQSCHOOL','PASCHPOL','ATTIMMP','CREATHME','CREATACT','CREATOPN','CREATOR','FCFMLRTY','FLSCHOOL','FLMULTSB','FLFAMILY','ACCESSFP','FLCONFIN','FLCONICT','ACCESSFA','ATTCONFM','FRINFLFM']\n",
        "\n",
        "# Define class label (Dependent variable)\n",
        "classLabel='MS2_LEV'\n"
      ],
      "metadata": {
        "id": "OLanuyuWy_3s"
      },
      "execution_count": null,
      "outputs": []
    },
    {
      "cell_type": "code",
      "source": [
        "# Convert numeric values ​​in dependent variable to text\n",
        "\n",
        "df['MS2_LEV']=df['MS2_LEV'].replace(1,'Low')\n",
        "df['MS2_LEV']=df['MS2_LEV'].replace(3,'High')\n",
        "\n",
        "# Create a list to store information gain scores\n",
        "results=[]\n",
        "\n",
        "# loop through all noncognitive variables\n",
        "\n",
        "for feature in featureList:\n",
        "\n",
        "  print(feature)\n",
        "\n",
        "  # Choose a specific noncognitive and pair it with the dependent variable.\n",
        "  dfTemp=df[[feature,classLabel]]\n",
        "\n",
        "  # Remove missing data if any in the data\n",
        "  dfTemp=dfTemp.dropna()\n",
        "\n",
        "  # Define the independent variables and dependent variable (X: noncognitive variables y: dependent variable (student math performance)\n",
        "  X=dfTemp[[feature]]\n",
        "  y=dfTemp[[classLabel]]\n",
        "\n",
        "  # Calculate the information gain for each noncognitive variable and dependent variable pair in the loop\n",
        "\n",
        "  if len(y)>0:\n",
        "    mutual_info = mutual_info_classif(X, y)\n",
        "\n",
        "  # Add the calculated score to the list\n",
        "    results.append([dfTemp[dfTemp.columns[0]].count(),feature,mutual_info])\n",
        "\n",
        "  else:\n",
        "    results.append([dfTemp[dfTemp.columns[0]].count(),feature,-99999])\n",
        "\n",
        "# Convert the list to Pandas dataframe\n",
        "dfResults = pd.DataFrame(results, columns=['Instance','Feature', 'Score'])\n"
      ],
      "metadata": {
        "id": "GFpUdqOevRP_"
      },
      "execution_count": null,
      "outputs": []
    },
    {
      "cell_type": "code",
      "source": [
        "# Sort the dataframe object containing the information gain values ​​from largest to smallest\n",
        "\n",
        "dfResults.sort_values(by='Score', ascending=False)"
      ],
      "metadata": {
        "id": "f8ApvsaI8Hhx"
      },
      "execution_count": null,
      "outputs": []
    }
  ]
}