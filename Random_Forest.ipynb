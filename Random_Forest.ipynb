{
  "nbformat": 4,
  "nbformat_minor": 0,
  "metadata": {
    "colab": {
      "provenance": []
    },
    "kernelspec": {
      "name": "python3",
      "display_name": "Python 3"
    },
    "language_info": {
      "name": "python"
    }
  },
  "cells": [
    {
      "cell_type": "code",
      "source": [
        "\"\"\"\n",
        "Hakan Güldal, hguldal@trakya.edu.tr, hguldal@gmail.com, 2024\n",
        "Random Forest Analysis\n",
        "\n",
        "Hardware Infrastructure: Google Compute Engine backend (GPU) System RAM: 51.0 GB NVidia T4 GPU\n",
        "Software Infrastructure: Python, Scikit-Learn, Pandas, Seaborn, Matplotlib Libraries\n",
        "\n",
        "\"\"\"\n",
        "\n",
        "import pandas as pd\n",
        "import matplotlib.pyplot as plt\n",
        "import seaborn as sns\n",
        "\n",
        "# Analiz parametlerini ayarla\n",
        "analysisParameters={\n",
        "    'DataPath':'data.csv',\n",
        "    'UnderSampling':True\n",
        "}\n",
        "\n",
        "# Read the CSV data file\n",
        "df = pd.read_csv(analysisParameters['DataPath'])\n",
        "\n",
        "# Select the noncognitive variables in the data that have the highest information gain value in the previous analysis.\n",
        "df=df[['ESCS','HOMEPOS','MATHEFF','MS2_LEV']]\n",
        "\n",
        "# Remove missing data\n",
        "df=df.dropna()\n"
      ],
      "metadata": {
        "id": "k5h-afGuU39S"
      },
      "execution_count": null,
      "outputs": []
    },
    {
      "cell_type": "code",
      "source": [
        "# Noncognitive variables\n",
        "\n",
        "featureList=['ESCS','HOMEPOS','MATHEFF']\n",
        "\n",
        "# Dependent variable\n",
        "classLabel='MS2_LEV'\n",
        "\n",
        "X=df[featureList]\n",
        "y=df[[classLabel]]\n",
        "\n",
        "# Convert numeric values ​​in dependent variable to text\n",
        "y=y.replace({'MS2_LEV': {1: 'Low', 3: 'High'}})\n",
        "\n",
        "y.value_counts()\n",
        "\n",
        "if analysisParameters['UnderSampling']==True:\n",
        "\n",
        "  from imblearn.under_sampling import NearMiss\n",
        "\n",
        " # Apply NearMiss\n",
        "  nm = NearMiss(version=1)\n",
        "  X, y = nm.fit_resample(X, y)"
      ],
      "metadata": {
        "id": "0iHdDAJuV7Ct"
      },
      "execution_count": null,
      "outputs": []
    },
    {
      "cell_type": "code",
      "source": [
        "from sklearn.model_selection import train_test_split\n",
        "from sklearn.ensemble import RandomForestClassifier\n",
        "from sklearn.inspection import permutation_importance\n",
        "\n",
        "# Identify training and testing partitions in the data\n",
        "\n",
        "X_train, X_test, y_train, y_test = train_test_split(X, y, test_size=0.20, random_state=0)\n",
        "\n",
        "forest = RandomForestClassifier(random_state=0)\n",
        "forest.fit(X_train, y_train)\n",
        "\n",
        "\n",
        "print('Feature importance based on mean decrease in impurity (MDI)')\n",
        "print(pd.Series(forest.feature_importances_, index=featureList))\n",
        "\n",
        "\n",
        "result = permutation_importance(forest, X_test, y_test, n_repeats=10, random_state=0, n_jobs=2)\n",
        "print('Feature importance based on feature permutation')\n",
        "print(pd.Series(result.importances_mean, index=featureList))\n"
      ],
      "metadata": {
        "id": "HLT3zh0tV9tF",
        "colab": {
          "base_uri": "https://localhost:8080/"
        },
        "outputId": "93e4359a-94aa-49f9-d788-323d7141e534"
      },
      "execution_count": null,
      "outputs": [
        {
          "output_type": "stream",
          "name": "stderr",
          "text": [
            "/usr/local/lib/python3.10/dist-packages/sklearn/base.py:1152: DataConversionWarning: A column-vector y was passed when a 1d array was expected. Please change the shape of y to (n_samples,), for example using ravel().\n",
            "  return fit_method(estimator, *args, **kwargs)\n"
          ]
        },
        {
          "output_type": "stream",
          "name": "stdout",
          "text": [
            "Feature importance based on mean decrease in impurity (MDI)\n",
            "ESCS       0.300255\n",
            "HOMEPOS    0.313377\n",
            "MATHEFF    0.386368\n",
            "dtype: float64\n"
          ]
        },
        {
          "output_type": "stream",
          "name": "stderr",
          "text": [
            "/usr/local/lib/python3.10/dist-packages/joblib/externals/loky/process_executor.py:752: UserWarning: A worker stopped while some jobs were given to the executor. This can be caused by a too short worker timeout or by a memory leak.\n",
            "  warnings.warn(\n"
          ]
        },
        {
          "output_type": "stream",
          "name": "stdout",
          "text": [
            "Feature importance based on feature permutation\n",
            "ESCS       0.052525\n",
            "HOMEPOS    0.063230\n",
            "MATHEFF    0.114571\n",
            "dtype: float64\n"
          ]
        }
      ]
    }
  ]
}